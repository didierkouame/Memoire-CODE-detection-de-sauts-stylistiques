{
 "cells": [
  {
   "cell_type": "code",
   "execution_count": null,
   "id": "ba7a423b",
   "metadata": {},
   "outputs": [],
   "source": [
    "#-*- coding: utf-8 -*- "
   ]
  },
  {
   "cell_type": "code",
   "execution_count": 1,
   "id": "35613146",
   "metadata": {},
   "outputs": [],
   "source": [
    "# bibliothèques \n",
    "from sklearn.neighbors import DistanceMetric\n",
    "import statistics\n",
    "#from scipy.spatial import distance\n",
    "from sklearn.metrics.pairwise import cosine_similarity\n",
    "import matplotlib.pyplot as plt\n",
    "from sklearn.feature_extraction.text import CountVectorizer\n",
    "from sklearn.feature_extraction.text import TfidfVectorizer\n",
    "from sklearn.cluster import KMeans\n",
    "from sklearn.decomposition import PCA\n",
    "import matplotlib.pyplot as plt\n",
    "from nltk import word_tokenize\n",
    "import seaborn as sns\n",
    "import pandas as pd\n",
    "from time import perf_counter as pf \n",
    "import nltk\n",
    "from nltk import StanfordTagger\n",
    "from nltk.tag import StanfordPOSTagger\n",
    "from textblob import TextBlob\n",
    "import numpy as np\n",
    "import glob, re, os\n",
    "import spacy\n",
    "import string\n",
    "import json\n",
    "from nltk import pos_tag, word_tokenize, RegexpParser\n"
   ]
  },
  {
   "cell_type": "code",
   "execution_count": 2,
   "id": "a7107fbc",
   "metadata": {},
   "outputs": [],
   "source": [
    "def lire_fichier(chemin):\n",
    "    fichier = open(chemin, encoding='utf-8') \n",
    "    chaine = fichier.read()\n",
    "    fichier.close()\n",
    "    return chaine\n",
    "\n",
    "def lire_fichier_lignes(chemin):\n",
    "    with open(chemin, encoding='utf-8') as f:\n",
    "        lignes = f.readlines()\n",
    "\n",
    "\n",
    "def etiquetter_texte(t):\n",
    "    jar = 'stanford-tagger-4.2.0/stanford-postagger-full-2020-11-17/stanford-postagger.jar'\n",
    "    modele = 'stanford-tagger-4.2.0/stanford-postagger-full-2020-11-17/models/french-ud.tagger' \n",
    "    blob = TextBlob(t) \n",
    "    etiquetter = StanfordPOSTagger(modele, jar, encoding='utf-8')\n",
    "    texte_etiquette = pos_tagger.tag(blob.split())\n",
    "    print(texte_etiquette) "
   ]
  },
  {
   "cell_type": "code",
   "execution_count": null,
   "id": "ec45e17c",
   "metadata": {},
   "outputs": [],
   "source": [
    "# tous les articles de TALN\n",
    "print(\"conférences TALN\")\n",
    "print(\"__\"*50)\n",
    "cpt1 = 1\n",
    "for root1, dirs1 ,files1 in os.walk(\"../data/taln-archives-master/TALN/\"):\n",
    "    for file1 in files1:\n",
    "        if file1.endswith(\".txt\"):\n",
    "            liste_fichiers_taln = glob.glob(os.path.join(root1, file1))\n",
    "            for chemin_taln in liste_fichiers_taln:\n",
    "                docs1_taln = lire_fichier(chemin_taln)\n",
    "                print(chemin_taln)\n",
    "                print(\"taille du document\", cpt1 ,\":\",len(docs1_taln), \"caractères\")\n",
    "                nb_mots = len(docs1_taln.split())\n",
    "                print(nb_mots, \"mots environs\")\n",
    "                cpt1 += 1"
   ]
  },
  {
   "cell_type": "code",
   "execution_count": null,
   "id": "fdb234a5",
   "metadata": {},
   "outputs": [],
   "source": [
    "# tous les articles RECITAL\n",
    "print(\"conférences RECITAL\")\n",
    "print(\"__\"*50)\n",
    "cpt2 = 1\n",
    "for root2, dirs2 ,files2 in os.walk(\"../data/taln-archives-master/RECITAL/\"):\n",
    "    for file2 in files2:\n",
    "        if file2.endswith(\".txt\"):\n",
    "            liste_fichiers_RECITAL = glob.glob(os.path.join(root2, file2))\n",
    "            for chemin_recital in liste_fichiers_RECITAL:\n",
    "                docs2_recital = lire_fichier(chemin_recital)\n",
    "                print(chemin_recital)\n",
    "                print(\"taille du document\", cpt2 ,\":\",len(docs2_recital), \"caractères\")\n",
    "                nb_mots = len(docs2_recital.split())\n",
    "                print(nb_mots, \"mots environs\")\n",
    "                cpt1 += 1"
   ]
  },
  {
   "cell_type": "code",
   "execution_count": 3,
   "id": "df5a6e40",
   "metadata": {},
   "outputs": [
    {
     "name": "stdout",
     "output_type": "stream",
     "text": [
      "<class 'list'>\n"
     ]
    }
   ],
   "source": [
    "with open(\"../data/taln-archives-master/RECITAL/RECITAL-2008/actes/recital-2008-long-001.txt\") as f:\n",
    "    lignes = f.readlines()\n",
    "print(type(lignes))\n",
    "#print(lignes)"
   ]
  },
  {
   "cell_type": "code",
   "execution_count": 9,
   "id": "a0aa94a5",
   "metadata": {},
   "outputs": [],
   "source": [
    "tampon = \"\"\n",
    "seuil_paragraphe = 2000\n",
    "liste_paragraphes = []\n",
    "\n",
    "for cpt, par in enumerate(lignes):\n",
    "    if len(par)<10:\n",
    "        continue\n",
    "    if len(tampon)>seuil_paragraphe:\n",
    "        liste_paragraphes.append(tampon)\n",
    "        tampon = \"\"\n",
    "        if len(par)>seuil_paragraphe:\n",
    "            liste_paragraphes.append(par)\n",
    "        else:\n",
    "            tampon+=par\n",
    "        \n",
    "    elif len(par)>seuil_paragraphe:\n",
    "        liste_paragraphes.append(par)\n",
    "    else:\n",
    "        tampon +=par\n",
    "#for p in liste_paragraphes:\n",
    "    #print(p)\n",
    "    #print(\"_____\"*20)"
   ]
  },
  {
   "cell_type": "code",
   "execution_count": 6,
   "id": "9cc56af7",
   "metadata": {},
   "outputs": [
    {
     "name": "stdout",
     "output_type": "stream",
     "text": [
      "1 Introduction\n",
      "\n",
      "2 Ritel, un système de questions-réponses oral et interactif\n",
      "\n",
      "3 Réordonnancement des réponses candidates\n",
      "\n",
      "4 Évaluation du système\n",
      "\n",
      "4.1 Cadre expérimental\n",
      "\n",
      "4.2 Analyse de l’évaluation\n",
      "\n",
      "5 Étude du corpus de questions et des résultats obtenus\n",
      "\n",
      "5.1 Corpus étudié\n",
      "\n",
      "5.2 Méthodologie\n",
      "\n",
      "5.3 Résultats de l’analyse\n",
      "\n",
      "5.3.1 Problèmes liés aux sous-nœuds\n",
      "\n",
      "5.3.2 Perte d’information liée à l’extraction de la phrase\n",
      "\n",
      "5.3.3 Ajout de relations entre les nœuds\n",
      "\n",
      "6 Conclusions et perspectives\n",
      "\n"
     ]
    }
   ],
   "source": [
    "# à développer, séparer selon les titres \n",
    "#tampon = \"\"\n",
    "#seuil_paragraphe = 2000\n",
    "#liste_paragraphes = []\n",
    "#for cpt, par in enumerate(lignes):\n",
    "    #motif = re.search(\"^\\d\\s+\\w.{1,}|\\d\\\\.\\d\\s+\\w.{1,}|^\\d\\\\.\\d\\\\.d\\s+\\w.{1,}|^\\d\\\\.\\d\\\\.d\\\\.\\s+\\w.{1,}\", par)  \n",
    "    #if motif:\n",
    "        #par = par\n",
    "        #print(par)"
   ]
  },
  {
   "cell_type": "code",
   "execution_count": 10,
   "id": "84201a4d",
   "metadata": {},
   "outputs": [
    {
     "name": "stdout",
     "output_type": "stream",
     "text": [
      "<class 'list'>\n",
      "nombre de paragraphes :  16\n"
     ]
    }
   ],
   "source": [
    "print(type(liste_paragraphes))\n",
    "print(\"nombre de paragraphes : \",len(liste_paragraphes))"
   ]
  },
  {
   "cell_type": "code",
   "execution_count": 11,
   "id": "364e807a",
   "metadata": {},
   "outputs": [],
   "source": [
    "# caratérsitiques de chaque paragraphe qui seront peut-être utiles \n",
    "X_stylo = []\n",
    "for paragraphe, texte in enumerate(liste_paragraphes): \n",
    "    \n",
    "    paragraphe = paragraphe\n",
    "    liste_mots1 = texte.split()\n",
    "    phrases1 = texte.split(\". \")\n",
    "    NB_phrases1 = len(phrases1)\n",
    "    NB_mots1 = len(liste_mots1)\n",
    "    NB_caracteres1 = len(texte)\n",
    "    moyenne_taille_mots1 = statistics.mean([len(x) for x in liste_mots1])\n",
    "    moyenne_taille_phrases1 = NB_mots1/NB_phrases1\n",
    "    caracteristiques1 = [NB_phrases1, NB_mots1, NB_caracteres1, moyenne_taille_mots1, moyenne_taille_phrases1]\n",
    "    \n",
    "    if paragraphe < len(liste_paragraphes)-1:\n",
    "        paragraphe2 = liste_paragraphes[paragraphe+1]\n",
    "        liste_mots2 = texte.split()\n",
    "        phrases2 = texte.split(\". \")\n",
    "        NB_phrases2 = len(phrases2)\n",
    "        NB_mots2 = len(liste_mots2)\n",
    "        NB_caracteres2 = len(texte)\n",
    "        moyenne_taille_mots2 = statistics.mean([len(x) for x in liste_mots2])\n",
    "        moyenne_taille_phrases2 = NB_mots2/NB_phrases1\n",
    "        caracteristiques2 = [NB_phrases2, NB_mots2, NB_caracteres2, moyenne_taille_mots2, moyenne_taille_phrases2]\n",
    "        \n",
    "caracteristiques = [caracteristiques1, caracteristiques2]"
   ]
  },
  {
   "cell_type": "code",
   "execution_count": 12,
   "id": "04a4d915",
   "metadata": {},
   "outputs": [
    {
     "name": "stdout",
     "output_type": "stream",
     "text": [
      "caractéristiques du paragraphe 1 :  [39, 304, 2044, 5.723684210526316, 7.794871794871795]\n",
      "\n",
      "caractéristiques du paragraphe suivant :  [16, 302, 2093, 5.927152317880795, 18.875]\n"
     ]
    }
   ],
   "source": [
    "print(\"caractéristiques du paragraphe 1 : \", caracteristiques1)\n",
    "print()\n",
    "print(\"caractéristiques du paragraphe suivant : \", caracteristiques2)"
   ]
  },
  {
   "cell_type": "code",
   "execution_count": 13,
   "id": "de09118f",
   "metadata": {},
   "outputs": [
    {
     "name": "stdout",
     "output_type": "stream",
     "text": [
      "les caractéristiques de chaque paragraphe dans une seule liste : \n",
      " [[39, 304, 2044, 5.723684210526316, 7.794871794871795], [16, 302, 2093, 5.927152317880795, 18.875]]\n"
     ]
    }
   ],
   "source": [
    "print(\"les caractéristiques de chaque paragraphe dans une seule liste : \\n\", caracteristiques)"
   ]
  },
  {
   "cell_type": "code",
   "execution_count": 14,
   "id": "e7410aea",
   "metadata": {},
   "outputs": [
    {
     "name": "stdout",
     "output_type": "stream",
     "text": [
      "[[[39, 304, 2044, 5.723684210526316, 7.794871794871795], [16, 302, 2093, 5.927152317880795, 18.875]]]\n"
     ]
    }
   ],
   "source": [
    "X_stylo.append(caracteristiques)\n",
    "print(X_stylo)"
   ]
  },
  {
   "cell_type": "code",
   "execution_count": 15,
   "id": "e4e2153b",
   "metadata": {},
   "outputs": [
    {
     "name": "stdout",
     "output_type": "stream",
     "text": [
      "<class 'numpy.ndarray'>\n",
      "(16, 1184)\n",
      "('paragraphe ', 0, 0.6118087721076215)\n",
      "('paragraphe ', 1, 0.5216953076589974)\n",
      "('paragraphe ', 2, 0.4731329958614173)\n",
      "('paragraphe ', 3, 0.5545425814364113)\n",
      "('paragraphe ', 4, 0.44761322730386754)\n",
      "('paragraphe ', 5, 0.4863907500012139)\n",
      "('paragraphe ', 6, 0.6109576435382881)\n",
      "('paragraphe ', 7, 0.5912560149765507)\n",
      "('paragraphe ', 8, 0.5514411587448387)\n",
      "('paragraphe ', 9, 0.7227734015663633)\n",
      "('paragraphe ', 10, 0.6504420750360135)\n",
      "('paragraphe ', 11, 0.4734697978145014)\n",
      "('paragraphe ', 12, 0.5632143539169405)\n",
      "('paragraphe ', 13, 0.692017467230908)\n",
      "('paragraphe ', 14, 0.8346390112475064)\n"
     ]
    }
   ],
   "source": [
    "# vectoriser le document \n",
    "V = TfidfVectorizer(encoding='utf-8', analyzer='word')\n",
    "#X = V.fit_transform(liste_paragraphes).todense()\n",
    "X = V.fit_transform(liste_paragraphes).toarray()\n",
    "print(type(X))\n",
    "#for distance in [\"braycurtis\"]:\n",
    "    #distance = DistanceMetric.get_metric(distance)\n",
    "print(X.shape)\n",
    "\n",
    "\n",
    "from scipy.spatial import distance\n",
    "for cpt, vecteur in enumerate(X):\n",
    "    vecteur = vecteur #!\n",
    "    if cpt < len(liste_paragraphes)-1:\n",
    "        vecteur2 = X[cpt+1]\n",
    "        #print(distance)\n",
    "        #similarite = cpt, distance.pairwise(vecteur, vecteur2)\n",
    "        similarite_cosine = (\"paragraphe \",cpt, distance.cosine(vecteur, vecteur2))\n",
    "        #print(similarite)\n",
    "        print(similarite_cosine)"
   ]
  },
  {
   "cell_type": "code",
   "execution_count": 16,
   "id": "31cd8f64",
   "metadata": {},
   "outputs": [],
   "source": [
    "#print(liste_paragraphes[0])\n",
    "#print(\"__\"*20)\n",
    "#print(liste_paragraphes[-1])"
   ]
  },
  {
   "cell_type": "code",
   "execution_count": 17,
   "id": "63afbc8c",
   "metadata": {},
   "outputs": [
    {
     "data": {
      "text/plain": [
       "Text(0.5, 1.0, 'Clusters des paragraphes')"
      ]
     },
     "execution_count": 17,
     "metadata": {},
     "output_type": "execute_result"
    },
    {
     "data": {
      "image/png": "[encoded data removed]",
      "text/plain": [
       "<Figure size 1500x1500 with 1 Axes>"
      ]
     },
     "metadata": {},
     "output_type": "display_data"
    }
   ],
   "source": [
    "# cluster pour les tokens \n",
    "\n",
    "vecteurs = X\n",
    "km = KMeans(n_clusters=5,init = 'k-means++', random_state = 0, max_iter=300)\n",
    "predire_clusters = km.fit_predict(vecteurs)\n",
    "\n",
    "pca = PCA(n_components=3)\n",
    "nuage_points = pca.fit_transform(vecteurs)\n",
    "\n",
    "colors = [\"b\", \"y\", \"r\", \"g\", \"m\" ]\n",
    "\n",
    "abscisses_x = [o[0] for o in nuage_points]\n",
    "ordonnees_y = [o[1] for o in nuage_points]\n",
    "fig, ax = plt.subplots(figsize=(15,15))\n",
    "\n",
    "scatter = ax.scatter(abscisses_x, ordonnees_y, c=[colors[d] for d in predire_clusters], marker='x')\n",
    "centroides = km.cluster_centers_\n",
    "\n",
    "\n",
    "for i, txt in enumerate(vecteurs):\n",
    "    ax.annotate(i, (abscisses_x[i], ordonnees_y[i]))\n",
    "\n",
    "ax.set_facecolor(\"white\")\n",
    "plt.title(\"Clusters des paragraphes\")\n"
   ]
  },
  {
   "cell_type": "code",
   "execution_count": 18,
   "id": "66d100df",
   "metadata": {},
   "outputs": [],
   "source": [
    "modele = spacy.load('fr_core_news_md')"
   ]
  },
  {
   "cell_type": "code",
   "execution_count": 19,
   "id": "687c5e9b",
   "metadata": {},
   "outputs": [
    {
     "name": "stdout",
     "output_type": "stream",
     "text": [
      "<class 'list'>\n",
      "nombre étiquettes paragraphes 1 :  1773\n",
      "nombre étiquettes paragraphes 2 :  2087\n",
      "\n",
      "nombre de paragraphes étiquettés :  16\n",
      "\n",
      "paragraphe étiquetté 1 :  NOUN NUM PUNCT PROPN PUNCT PROPN NOUN NUM SPACE NOUN ADP NOUN ADP NOUN ADP SPACE NOUN ADP NOUN PUNCT NOUN CCONJ NOUN ADP SPACE NOUN SPACE PROPN PROPN SPACE PUNCT NUM PUNCT NOUN PUNCT PROPN PUNCT NOUN NUM PUNCT NUM NOUN PUNCT PROPN SPACE PROPN SPACE NOUN PUNCT ADP DET NOUN PRON VERB DET NOUN CCONJ DET NOUN ADP NOUN ADP DET SPACE NOUN ADP NOUN ADP NOUN ADP DET NOUN ADP NOUN PRON NOUN PUNCT DET NOUN VERB DET NOUN ADP NOUN ADJ ADP DET NOUN ADP VERB DET NOUN ADP SPACE NOUN ADP NOUN PUNCT PRON VERB DET NOUN ADP NOUN VERB ADP DET NOUN NOUN SPACE NOUN NOUN NOUN CCONJ DET NOUN ADP DET NOUN ADP NOUN ADJ ADP DET NOUN PUNCT SPACE NOUN PUNCT NOUN X NOUN NOUN NOUN X X X X X X X NOUN X SPACE NOUN X X X NOUN PUNCT X PROPN PUNCT NOUN X X VERB NOUN X X X X AUX X VERB ADV PUNCT X NOUN X X X X NOUN PRON X X SPACE NOUN NOUN NUM NOUN X NOUN ADJ NOUN X X X PUNCT SPACE NOUN PUNCT SPACE NOUN ADP NOUN PUNCT NOUN ADJ ADP NOUN PUNCT NOUN SPACE ADP NOUN PRON NOUN PUNCT SPACE PROPN PUNCT SPACE NOUN PROPN PUNCT NOUN X X PUNCT NOUN PROPN PROPN SPACE NUM NOUN SPACE PRON AUX ADJ SCONJ DET NOUN ADJ ADP VERB ADP DET NOUN AUX VERB ADP DET SPACE NOUN ADJ ADP PRON ADP DET NOUN PUNCT DET NOUN ADP NOUN ADP NOUN ADJ AUX ADV ADV VERB SCONJ PRON PRON VERB ADP VERB DET NOUN ADJ ADJ SPACE SCONJ DET NOUN PUNCT PROPN PUNCT NUM PUNCT PUNCT DET NOUN VERB ADP VERB ADP DET NOUN ADP VERB DET NOUN ADP NOUN ADP NOUN ADJ ADP DET NOUN ADP VERB SPACE ADP NOUN VERB DET NOUN CCONJ DET NOUN VERB ADV DET ADJ NOUN PUNCT PROPN PUNCT NUM PUNCT PUNCT DET NOUN ADP NOUN AUX VERB ADP DET NUM NOUN PUNCT ADP ADJ NOUN SPACE PRON AUX ADV VERB ADP DET NOUN ADP NOUN ADP NOUN ADP NOUN ADP VERB SPACE DET NOUN ADP DET NOUN PUNCT ADP NOUN PUNCT PROPN PUNCT NUM PUNCT PUNCT PUNCT PRON PRON VERB ADP DET NOUN CCONJ DET SPACE\n"
     ]
    }
   ],
   "source": [
    "# étiquetter le document \n",
    "texte_etiquettes = []\n",
    "for par in liste_paragraphes:\n",
    "    liste_tokens = modele(par)\n",
    "    liste_etiquettes = [token.pos_ for token in liste_tokens]\n",
    "    texte_etiquettes.append(\" \".join(liste_etiquettes))\n",
    "print(type(liste_etiquettes))\n",
    "print(\"nombre étiquettes paragraphes 1 : \", len(texte_etiquettes[0]))\n",
    "print(\"nombre étiquettes paragraphes 2 : \", len(texte_etiquettes[1]))\n",
    "print()\n",
    "print(\"nombre de paragraphes étiquettés : \", len(texte_etiquettes))\n",
    "print()\n",
    "print(\"paragraphe étiquetté 1 : \", texte_etiquettes[0])"
   ]
  },
  {
   "cell_type": "code",
   "execution_count": 20,
   "id": "f1640f9a",
   "metadata": {},
   "outputs": [
    {
     "name": "stdout",
     "output_type": "stream",
     "text": [
      "(0, 0.04045125758262602)\n",
      "(1, 0.026125086667213138)\n",
      "(2, 0.025158150531368273)\n",
      "(3, 0.04001038867302564)\n",
      "(4, 0.028421487009181456)\n",
      "(5, 0.07598267660499791)\n",
      "(6, 0.11038849384938387)\n",
      "(7, 0.058107846510542904)\n",
      "(8, 0.04023044344379412)\n",
      "(9, 0.06699009997737337)\n",
      "(10, 0.0718443844470894)\n",
      "(11, 0.028324481407012714)\n",
      "(12, 0.06934760691464803)\n",
      "(13, 0.07501710666210037)\n",
      "(14, 0.27868270997700617)\n"
     ]
    }
   ],
   "source": [
    "#from scipy.spatial import distance\n",
    "V = TfidfVectorizer(ngram_range=(1,2))\n",
    "X_pos = V.fit_transform(texte_etiquettes).toarray()\n",
    "#X_pos = V.fit_transform(texte_etiquettes).todense()\n",
    "for cpt, vecteur in enumerate(X_pos):\n",
    "    vecteur = vecteur\n",
    "    if cpt<len(texte_etiquettes)-1:\n",
    "        vecteur2 = X_pos[cpt+1]\n",
    "        #similarite = cpt, distance.pairwise(vecteur, vecteur2) #todense\n",
    "        similarite_cosine = cpt, distance.cosine(vecteur, vecteur2)\n",
    "        print(similarite_cosine)\n",
    "        #print(similarite)\n",
    "#distances = distance.pairwise(X_pos) # todense\n",
    "#ax = sns.heatmap(distances)"
   ]
  },
  {
   "cell_type": "code",
   "execution_count": 21,
   "id": "c9703821",
   "metadata": {},
   "outputs": [
    {
     "data": {
      "image/png": "[encoded data removed]",
      "text/plain": [
       "<Figure size 1500x1500 with 1 Axes>"
      ]
     },
     "metadata": {},
     "output_type": "display_data"
    }
   ],
   "source": [
    "# clusters pour les uni-grammes d'étiquettes # essayer avec les bi-grammes, tri-grammes...\n",
    "vecteurs = X_pos\n",
    "km = KMeans(n_clusters=5,init = 'k-means++', random_state = 0, max_iter=500)\n",
    "predire_clusters = km.fit_predict(vecteurs)\n",
    "\n",
    "pca = PCA(n_components=3)\n",
    "nuage_points = pca.fit_transform(vecteurs)\n",
    "\n",
    "colors = [\"b\", \"y\", \"r\", \"g\", \"m\" ]\n",
    "\n",
    "abscisses_x = [o[0] for o in nuage_points]\n",
    "ordonnees_y = [o[1] for o in nuage_points]\n",
    "\n",
    "fig, ax = plt.subplots(figsize=(15,15))\n",
    "\n",
    "scatter = ax.scatter(abscisses_x, ordonnees_y,c=[colors[d] for d in predire_clusters], marker='x')\n",
    "\n",
    "\n",
    "centroides = km.cluster_centers_\n",
    "\n",
    "cen_x = [i[0] for i in centroides] \n",
    "cen_y = [i[1] for i in centroides]\n",
    "\n",
    "\n",
    "for i, txt in enumerate(vecteurs):\n",
    "    ax.annotate(i, (abscisses_x[i], ordonnees_y[i]))\n",
    "\n",
    "ax.set_facecolor(\"white\")"
   ]
  },
  {
   "cell_type": "code",
   "execution_count": 22,
   "id": "069bb672",
   "metadata": {},
   "outputs": [
    {
     "name": "stdout",
     "output_type": "stream",
     "text": [
      "[0.12696473439183148, 0.1338717463258132, 0.10094184322095852, 0.08488357442058836, 0.06092546419316043]\n",
      "[0.0, 0.004163377019827837, 0.021691380734286583, 0.004522461587087103, 0.0]\n"
     ]
    }
   ],
   "source": [
    "print(cen_x)\n",
    "print(cen_y)"
   ]
  },
  {
   "cell_type": "code",
   "execution_count": 23,
   "id": "4f9fbe03",
   "metadata": {},
   "outputs": [],
   "source": [
    "#print(km.labels_)"
   ]
  },
  {
   "cell_type": "code",
   "execution_count": 24,
   "id": "b6da4239",
   "metadata": {},
   "outputs": [
    {
     "name": "stdout",
     "output_type": "stream",
     "text": [
      "taille glaff : 1082688 types\n"
     ]
    }
   ],
   "source": [
    "# calcul du taux de lexicalité avec le glaff  \n",
    "\n",
    "with open(\"../data/GLAFF-1.2.2/glaff-1.2.2.txt\",encoding='utf-8') as f:\n",
    "    ligne = f.readline()\n",
    "    cpt = 0 \n",
    "    dic_glaff = {}\n",
    "    while len(ligne) > 0:\n",
    "        cpt += 1\n",
    "        elements = re.split(\"\\|\", re.sub(\"\\n\", \"\", ligne))\n",
    "        frequence = 0 \n",
    "        forme = elements[0]\n",
    "        for index in range(6, len(elements)+1, 2):\n",
    "            frequence += float(elements[index])\n",
    "        dic_glaff[forme] = frequence\n",
    "        ligne = f.readline()\n",
    "with open(\"freq_glaff_%i.json\"%cpt, \"w\") as w:\n",
    "    w.write(json.dumps(dic_glaff))\n",
    "set_mots_glaff = set(dic_glaff.keys())\n",
    "print(\"taille glaff : %i types\"%len(set_mots_glaff))"
   ]
  },
  {
   "cell_type": "code",
   "execution_count": 25,
   "id": "c6247bf2",
   "metadata": {},
   "outputs": [],
   "source": [
    "with open(\"freq_glaff_1406857.json\", encoding='utf-8') as f:\n",
    "        glaff = json.load(f)\n",
    "        set_mots_GLAFF = set(glaff)"
   ]
  },
  {
   "cell_type": "code",
   "execution_count": 27,
   "id": "a525a20c",
   "metadata": {},
   "outputs": [
    {
     "name": "stdout",
     "output_type": "stream",
     "text": [
      "\n",
      "paragraphe :  0\n",
      "absents dans le glaff ---> 66 ['lorsqu', 'Notre', 'Language', 'Méthode', 'answers']\n",
      "présents dans le glaff ---> 0\n",
      "mots fréquents du paragraphe ---> 0 --> [[13, 'de'], [10, 'une'], [10, 'des'], [7, 'question'], [7, 'd']]\n",
      "taux de lexicalité ---> 0.0\n",
      "\n",
      "paragraphe :  1\n",
      "absents dans le glaff ---> 28 ['Villaneau', 'Concrètement', 'Plus', 'Guillaume', 'Dans']\n",
      "présents dans le glaff ---> 108\n",
      "mots fréquents du paragraphe ---> 1 --> [[26, 'de'], [10, 'et'], [10, 'des'], [9, 'd'], [8, 'un']]\n",
      "taux de lexicalité ---> 0.6101694915254238\n",
      "\n",
      "paragraphe :  2\n",
      "absents dans le glaff ---> 30 ['prep', 'Chacune', 'Enfin', 'aux', 'Dans']\n",
      "présents dans le glaff ---> 217\n",
      "mots fréquents du paragraphe ---> 2 --> [[22, 'de'], [16, 'la'], [10, 'les'], [10, 'et'], [7, 'un']]\n",
      "taux de lexicalité ---> 1.3821656050955413\n",
      "\n",
      "paragraphe :  3\n",
      "absents dans le glaff ---> 31 ['Notre', 'Or', 'aux', 'Dans', 'Ainsi']\n",
      "présents dans le glaff ---> 282\n",
      "mots fréquents du paragraphe ---> 3 --> [[13, 'des'], [12, 'de'], [11, 'les'], [11, 'et'], [10, 'la']]\n",
      "taux de lexicalité ---> 1.6022727272727273\n",
      "\n",
      "paragraphe :  4\n",
      "absents dans le glaff ---> 23 ['Notre', 'Magnini', 'Guillaume', 'aux', 'l']\n",
      "présents dans le glaff ---> 350\n",
      "mots fréquents du paragraphe ---> 4 --> [[21, 'de'], [13, 'la'], [11, 'd'], [9, 'les'], [9, 'l']]\n",
      "taux de lexicalité ---> 2.121212121212121\n",
      "\n",
      "paragraphe :  5\n",
      "absents dans le glaff ---> 32 ['Où', 'Notre', 'Mikhailov', 'Jouret', 'aux']\n",
      "présents dans le glaff ---> 424\n",
      "mots fréquents du paragraphe ---> 5 --> [[28, 'de'], [13, 'le'], [10, 'l'], [10, 'et'], [8, 'd']]\n",
      "taux de lexicalité ---> 2.3820224719101124\n",
      "\n",
      "paragraphe :  6\n",
      "absents dans le glaff ---> 37 ['Où', 'Substitution', 'TAB', 'Méthode', 'Résultats']\n",
      "présents dans le glaff ---> 487\n",
      "mots fréquents du paragraphe ---> 6 --> [[21, 'de'], [12, 'n'], [10, 'ud'], [10, 'd'], [9, 'la']]\n",
      "taux de lexicalité ---> 3.121794871794872\n",
      "\n",
      "paragraphe :  7\n",
      "absents dans le glaff ---> 29 ['Tanez', 'Mean', 'Magnini', 'Guillaume', 'Dans']\n",
      "présents dans le glaff ---> 525\n",
      "mots fréquents du paragraphe ---> 7 --> [[18, 'de'], [15, 'la'], [10, 'le'], [7, 'à'], [7, 'une']]\n",
      "taux de lexicalité ---> 3.052325581395349\n",
      "\n",
      "paragraphe :  8\n",
      "absents dans le glaff ---> 18 ['Bernard', 'Étude', 'uds', 'La', 'Certaines']\n",
      "présents dans le glaff ---> 586\n",
      "mots fréquents du paragraphe ---> 8 --> [[19, 'de'], [11, 'des'], [9, 'les'], [9, 'et'], [8, 'à']]\n",
      "taux de lexicalité ---> 3.5515151515151517\n",
      "\n",
      "paragraphe :  9\n",
      "absents dans le glaff ---> 24 ['Notre', 'entre-temps', 'Résultats', 'Plus', 'aux']\n",
      "présents dans le glaff ---> 644\n",
      "mots fréquents du paragraphe ---> 9 --> [[19, 'de'], [12, 'la'], [12, 'des'], [8, 'd'], [7, 'l']]\n",
      "taux de lexicalité ---> 3.856287425149701\n",
      "\n",
      "paragraphe :  10\n",
      "absents dans le glaff ---> 40 ['sousarbre', 'Shaw', 'sous-arbre', 'sous-arbres', 'Guillaume']\n",
      "présents dans le glaff ---> 684\n",
      "mots fréquents du paragraphe ---> 10 --> [[11, 'de'], [10, 'en'], [9, 'un'], [8, 'meteo'], [8, 'la']]\n",
      "taux de lexicalité ---> 4.170731707317073\n",
      "\n",
      "paragraphe :  11\n",
      "absents dans le glaff ---> 26 ['Février', 'sous-arbre', 'Trade', 'Un', 'Dans']\n",
      "présents dans le glaff ---> 727\n",
      "mots fréquents du paragraphe ---> 11 --> [[19, 'la'], [12, 'l'], [12, 'de'], [10, 'et'], [9, 'd']]\n",
      "taux de lexicalité ---> 3.8877005347593583\n",
      "\n",
      "paragraphe :  12\n",
      "absents dans le glaff ---> 30 ['Trade', 'Delors', 'Dans', 'l', 'Le']\n",
      "présents dans le glaff ---> 778\n",
      "mots fréquents du paragraphe ---> 12 --> [[14, 'de'], [10, 'les'], [9, 'la'], [8, 'le'], [7, 'est']]\n",
      "taux de lexicalité ---> 4.274725274725275\n",
      "\n",
      "paragraphe :  13\n",
      "absents dans le glaff ---> 31 ['Où', 'Conclusions', 'Plus', 'Phrase', 'Delors']\n",
      "présents dans le glaff ---> 821\n",
      "mots fréquents du paragraphe ---> 13 --> [[19, 'de'], [11, 'la'], [9, 'des'], [8, 'en'], [7, 'à']]\n",
      "taux de lexicalité ---> 4.461956521739131\n",
      "\n",
      "paragraphe :  14\n",
      "absents dans le glaff ---> 25 ['Notre', 'Guillaume', 'aux', 'Ferrandez', 'org']\n",
      "présents dans le glaff ---> 879\n",
      "mots fréquents du paragraphe ---> 14 --> [[13, 'de'], [11, 'les'], [11, 'et'], [10, 'd'], [9, 'pour']]\n",
      "taux de lexicalité ---> 4.856353591160221\n",
      "\n",
      "paragraphe :  15\n",
      "absents dans le glaff ---> 113 ['Workshop', 'Challenges', 'the', 'Second', 'Challenge']\n",
      "présents dans le glaff ---> 917\n",
      "mots fréquents du paragraphe ---> 15 --> [[9, 'M'], [8, 'G'], [8, 'B'], [6, 'de'], [6, 'L']]\n",
      "taux de lexicalité ---> 5.1807909604519775\n"
     ]
    }
   ],
   "source": [
    "# lexique de chaque paragraphe \n",
    "# créer un vocabulaire des paragraphes \n",
    "\n",
    "vocabulaire_paragraphe = set()\n",
    "\n",
    "for paragraphe, texte in enumerate (liste_paragraphes):\n",
    "    print()\n",
    "    print(\"paragraphe : \", paragraphe)\n",
    "    paragraphe = paragraphe\n",
    "    lexique = re.findall(\"[a-zA-ZÀ-ÿ][a-zA-ZÀ-ÿ-]*\", texte)\n",
    "    set_mots_lexique = set(lexique)\n",
    "    \n",
    "    communs = vocabulaire_paragraphe.intersection(set_mots_GLAFF)\n",
    "    manquants = set_mots_lexique.difference(set_mots_GLAFF)\n",
    "    \n",
    "    \n",
    "    print(\"absents dans le glaff --->\",len(manquants), list(manquants)[:5])\n",
    "    for x in set_mots_lexique:\n",
    "        vocabulaire_paragraphe.add(x)\n",
    "    #try:\n",
    "        #proportion_mots_nouveaux = \"Proportion mots nouveaux : %f\"%(1-(len(communs)/len(set_mots_lexique))) # j'ai une erreur de division par zéro\n",
    "    #except:\n",
    "        #Exception\n",
    "    #print(proportion_mots_nouveaux)\n",
    "    #print(\"---\"*10)\n",
    "    #print(\"communs avec le glaff : \", communs)\n",
    "    print(\"présents dans le glaff --->\", len(communs))\n",
    "    \n",
    "    \n",
    "    # on a besoin des fréquences de tokens pour calculer le taux de lexicalité de chaque paragraphe \n",
    "    \n",
    "    dic_freq = {} # dictionnaire pour stocker nb apparitions de chaque mots\n",
    "    for mot in lexique:\n",
    "        if mot not in dic_freq:\n",
    "            dic_freq[mot] = 1\n",
    "        else:\n",
    "            dic_freq[mot] += 1\n",
    "    paires = [[effectif, mot] for mot, effectif in dic_freq.items()] \n",
    "    liste_tri = sorted(paires, reverse=True)[:5] \n",
    "    plus_freq = set([mot for effectif, mot in liste_tri])\n",
    "    print(\"mots fréquents du paragraphe --->\", paragraphe,\"-->\",liste_tri)\n",
    "    \n",
    "    # taux de lexicalité \n",
    "    taux_de_lexicalite = len(communs)/len(dic_freq)\n",
    "    \n",
    "    print(\"taux de lexicalité --->\", taux_de_lexicalite)"
   ]
  },
  {
   "cell_type": "code",
   "execution_count": null,
   "id": "b52fc214",
   "metadata": {},
   "outputs": [],
   "source": [
    "# motifs syntaxiques \n",
    "# calcul de la fréquence des étiquettes par n-grammes  \n",
    "# sortir la fréquence de chaque motif par ex SCONJ DET NOUN dans chaque paragraphe \n",
    "#lemmatisation"
   ]
  },
  {
   "cell_type": "code",
   "execution_count": null,
   "id": "d7188fe9",
   "metadata": {},
   "outputs": [],
   "source": []
  },
  {
   "cell_type": "code",
   "execution_count": null,
   "id": "c3e6fedd",
   "metadata": {},
   "outputs": [],
   "source": []
  },
  {
   "cell_type": "code",
   "execution_count": null,
   "id": "f6a66396",
   "metadata": {},
   "outputs": [],
   "source": []
  }
 ],
 "metadata": {
  "kernelspec": {
   "display_name": "Python 3 (ipykernel)",
   "language": "python",
   "name": "python3"
  },
  "language_info": {
   "codemirror_mode": {
    "name": "ipython",
    "version": 3
   },
   "file_extension": ".py",
   "mimetype": "text/x-python",
   "name": "python",
   "nbconvert_exporter": "python",
   "pygments_lexer": "ipython3",
   "version": "3.9.13"
  }
 },
 "nbformat": 4,
 "nbformat_minor": 5
}
